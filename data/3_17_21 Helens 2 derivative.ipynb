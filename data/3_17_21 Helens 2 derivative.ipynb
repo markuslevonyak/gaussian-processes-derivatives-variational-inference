{
 "cells": [
  {
   "cell_type": "markdown",
   "metadata": {},
   "source": [
    "# Mount St. Helens Countour Dataset"
   ]
  },
  {
   "cell_type": "code",
   "execution_count": 50,
   "metadata": {},
   "outputs": [],
   "source": [
    "import math\n",
    "import numpy as np\n",
    "import torch\n",
    "import gpytorch\n",
    "import matplotlib\n",
    "import tqdm\n",
    "import random\n",
    "from matplotlib import pyplot as plt\n",
    "from torch.utils.data import TensorDataset, DataLoader\n",
    "import sys\n",
    "import sys\n",
    "import scipy.io\n",
    "import torch\n",
    "import numpy as np \n",
    "sys.path.append(\"../directionalvi\")\n",
    "#sys.path.append(\"../../data\")\n",
    "sys.path.append(\"../directionalvi/utils\")\n",
    "from directional_vi import train_gp, eval_gp\n",
    "from metrics import MSE\n",
    "from metrics import MAE\n"
   ]
  },
  {
   "cell_type": "code",
   "execution_count": 51,
   "metadata": {},
   "outputs": [],
   "source": [
    "#load data\n",
    "mat = scipy.io.loadmat('helens')\n",
    "x = torch.tensor(np.float64(mat['mth_points'])).float()\n",
    "#assume xs are positive\n",
    "SCALE_0_FACTOR = max(x[:, 0])\n",
    "SCALE_1_FACTOR = max(x[:, 1])\n",
    "x[:, 0] = x[:, 0]/SCALE_0_FACTOR\n",
    "x[:, 1] = x[:, 1]/SCALE_1_FACTOR\n",
    "y = torch.tensor(np.float64(mat['mth_verts'])).float()\n",
    "SCALE_Y_FACTOR = max(y)\n",
    "y = y/SCALE_Y_FACTOR\n",
    "#y = y - torch.mean(y)\n",
    "dy = torch.tensor(np.float64(mat['mth_grads'])).float()\n",
    "dy = dy / SCALE_Y_FACTOR #modify derivatives due to y-scaling\n",
    "dy[:, 0] = dy[:, 0]*SCALE_0_FACTOR #modify derivatives due to x-scaling\n",
    "dy[:, 1] = dy[:, 1]*SCALE_1_FACTOR\n",
    "data = torch.cat((y, dy), dim = 1).float()\n",
    "full_data = torch.cat((x, data), dim=1).float() #location concatenated with y and dy values\n"
   ]
  },
  {
   "cell_type": "code",
   "execution_count": 52,
   "metadata": {},
   "outputs": [
    {
     "data": {
      "text/plain": [
       "torch.Size([14040, 2])"
      ]
     },
     "execution_count": 52,
     "metadata": {},
     "output_type": "execute_result"
    }
   ],
   "source": [
    "x.shape"
   ]
  },
  {
   "cell_type": "code",
   "execution_count": 53,
   "metadata": {},
   "outputs": [
    {
     "name": "stdout",
     "output_type": "stream",
     "text": [
      "tensor([0.3033])\n"
     ]
    }
   ],
   "source": [
    "print(min(y))"
   ]
  },
  {
   "cell_type": "markdown",
   "metadata": {},
   "source": [
    "# Filter and Round Dataset (If Applicable)"
   ]
  },
  {
   "cell_type": "code",
   "execution_count": 54,
   "metadata": {},
   "outputs": [
    {
     "name": "stdout",
     "output_type": "stream",
     "text": [
      "100\n"
     ]
    }
   ],
   "source": [
    "temp_full_data = np.array(full_data)\n",
    "def fun(x, val = 0.1):\n",
    "    if x[0]>val or x[1]>val:       \n",
    "        return False \n",
    "    else:\n",
    "        return True\n",
    "filtered = filter(fun, temp_full_data)\n",
    "#for item in filtered:\n",
    "#    print(item)\n",
    "arr = [item for item in filtered]\n",
    "len_arr = len(arr)\n",
    "len_arr = len_arr - len_arr%100\n",
    "arr = arr[:len_arr]\n",
    "#full_data_truncated = torch.tensor(arr)\n",
    "print(len(arr))"
   ]
  },
  {
   "cell_type": "code",
   "execution_count": 55,
   "metadata": {},
   "outputs": [
    {
     "data": {
      "text/plain": [
       "<matplotlib.collections.PathCollection at 0x2a243ddae88>"
      ]
     },
     "execution_count": 55,
     "metadata": {},
     "output_type": "execute_result"
    },
    {
     "data": {
      "image/png": "[encoded data removed]",
      "text/plain": [
       "<Figure size 432x288 with 1 Axes>"
      ]
     },
     "metadata": {
      "needs_background": "light"
     },
     "output_type": "display_data"
    }
   ],
   "source": [
    "xs1 = [item[0] for item in arr]\n",
    "xs2 = [item[1] for item in arr]\n",
    "plt.scatter(xs1, xs2)"
   ]
  },
  {
   "cell_type": "code",
   "execution_count": 56,
   "metadata": {},
   "outputs": [
    {
     "name": "stdout",
     "output_type": "stream",
     "text": [
      "tensor(0.3822)\n",
      "tensor(0.3616)\n"
     ]
    }
   ],
   "source": [
    "#recover x and data from filtered concatenated values\n",
    "x = torch.tensor([item[0:2] for item in arr])\n",
    "data = torch.tensor([item[2:] for item in arr])\n",
    "#data[:, 0] = data[:, 0] - torch.mean(data[:, 0]) #normalize\n",
    "print(max(data[:, 0]))\n",
    "print(min(data[:, 0]))\n",
    "\n",
    "# generate training data\n",
    "dataset = TensorDataset(x, data)"
   ]
  },
  {
   "cell_type": "code",
   "execution_count": 57,
   "metadata": {},
   "outputs": [
    {
     "name": "stdout",
     "output_type": "stream",
     "text": [
      "n is:  100\n",
      "n_test is:  20\n",
      "num_inducing is: 50\n",
      "num_directions is:  2\n"
     ]
    }
   ],
   "source": [
    "# data parameters\n",
    "n  = data.shape[0] \n",
    "dim = 2\n",
    "n_test = n//5\n",
    "\n",
    "# training params\n",
    "num_inducing = 50\n",
    "num_directions = dim\n",
    "minibatch_size = n_test #how does minibatch size impact convergence rate\n",
    "num_epochs =  200\n",
    "\n",
    "#print\n",
    "print(\"n is: \", n)\n",
    "print(\"n_test is: \", n_test)\n",
    "print(\"num_inducing is:\", num_inducing)\n",
    "print(\"num_directions is: \", num_directions)"
   ]
  },
  {
   "cell_type": "markdown",
   "metadata": {},
   "source": [
    "# Training"
   ]
  },
  {
   "cell_type": "code",
   "execution_count": 58,
   "metadata": {},
   "outputs": [],
   "source": [
    "train_dataset, test_dataset = torch.utils.data.random_split(dataset, [n - n_test, n_test], generator=torch.Generator().manual_seed(42))"
   ]
  },
  {
   "cell_type": "code",
   "execution_count": 59,
   "metadata": {},
   "outputs": [],
   "source": [
    "train_loader  = DataLoader(train_dataset, batch_size=minibatch_size, shuffle=True)\n",
    "dim = len(train_dataset[0][0])\n",
    "n_samples = len(train_dataset)"
   ]
  },
  {
   "cell_type": "code",
   "execution_count": 60,
   "metadata": {},
   "outputs": [
    {
     "name": "stdout",
     "output_type": "stream",
     "text": [
      "Epoch: 0; Step: 0, loss: 1.629319190979004\n",
      "Epoch: 1; Step: 0, loss: 1.472276210784912\n",
      "Epoch: 2; Step: 0, loss: 1.32328462600708\n",
      "Epoch: 3; Step: 0, loss: 1.1965081691741943\n",
      "Epoch: 4; Step: 0, loss: 1.087859034538269\n",
      "Epoch: 5; Step: 0, loss: 0.9881214499473572\n",
      "Epoch: 6; Step: 0, loss: 0.9307452440261841\n",
      "Epoch: 7; Step: 0, loss: 0.8809894919395447\n",
      "Epoch: 8; Step: 0, loss: 0.8457218408584595\n",
      "Epoch: 9; Step: 0, loss: 0.8162148594856262\n",
      "Epoch: 10; Step: 0, loss: 0.7861595153808594\n",
      "Epoch: 11; Step: 0, loss: 0.7567163109779358\n",
      "Epoch: 12; Step: 0, loss: 0.7302687168121338\n",
      "Epoch: 13; Step: 0, loss: 0.7037256956100464\n",
      "Epoch: 14; Step: 0, loss: 0.6809021830558777\n",
      "Epoch: 15; Step: 0, loss: 0.6572397351264954\n",
      "Epoch: 16; Step: 0, loss: 0.6349544525146484\n",
      "Epoch: 17; Step: 0, loss: 0.6127610206604004\n",
      "Epoch: 18; Step: 0, loss: 0.5907323360443115\n",
      "Epoch: 19; Step: 0, loss: 0.5693010687828064\n",
      "Epoch: 20; Step: 0, loss: 0.5494610667228699\n",
      "Epoch: 21; Step: 0, loss: 0.5292348265647888\n",
      "Epoch: 22; Step: 0, loss: 0.5089254975318909\n",
      "Epoch: 23; Step: 0, loss: 0.4884493350982666\n",
      "Epoch: 24; Step: 0, loss: 0.46784910559654236\n",
      "Epoch: 25; Step: 0, loss: 0.4475155472755432\n",
      "Epoch: 26; Step: 0, loss: 0.4279646873474121\n",
      "Epoch: 27; Step: 0, loss: 0.405912846326828\n",
      "Epoch: 28; Step: 0, loss: 0.3868632912635803\n",
      "Epoch: 29; Step: 0, loss: 0.3655768930912018\n",
      "Epoch: 30; Step: 0, loss: 0.34528428316116333\n",
      "Epoch: 31; Step: 0, loss: 0.3246803879737854\n",
      "Epoch: 32; Step: 0, loss: 0.3025844991207123\n",
      "Epoch: 33; Step: 0, loss: 0.28218045830726624\n",
      "Epoch: 34; Step: 0, loss: 0.2618466019630432\n",
      "Epoch: 35; Step: 0, loss: 0.24058951437473297\n",
      "Epoch: 36; Step: 0, loss: 0.22105807065963745\n",
      "Epoch: 37; Step: 0, loss: 0.19797205924987793\n",
      "Epoch: 38; Step: 0, loss: 0.17696285247802734\n",
      "Epoch: 39; Step: 0, loss: 0.1554386019706726\n",
      "Epoch: 40; Step: 0, loss: 0.13350002467632294\n",
      "Epoch: 41; Step: 0, loss: 0.11273334920406342\n",
      "Epoch: 42; Step: 0, loss: 0.09084121137857437\n",
      "Epoch: 43; Step: 0, loss: 0.06936612725257874\n",
      "Epoch: 44; Step: 0, loss: 0.04896005988121033\n",
      "Epoch: 45; Step: 0, loss: 0.026571013033390045\n",
      "Epoch: 46; Step: 0, loss: 0.006576472893357277\n",
      "Epoch: 47; Step: 0, loss: -0.017053619027137756\n",
      "Epoch: 48; Step: 0, loss: -0.037849657237529755\n",
      "Epoch: 49; Step: 0, loss: -0.05938194692134857\n",
      "Epoch: 50; Step: 0, loss: -0.08187596499919891\n",
      "Epoch: 51; Step: 0, loss: -0.10256002843379974\n",
      "Epoch: 52; Step: 0, loss: -0.12505090236663818\n",
      "Epoch: 53; Step: 0, loss: -0.14675849676132202\n",
      "Epoch: 54; Step: 0, loss: -0.16833961009979248\n",
      "Epoch: 55; Step: 0, loss: -0.19071301817893982\n",
      "Epoch: 56; Step: 0, loss: -0.211637943983078\n",
      "Epoch: 57; Step: 0, loss: -0.2335701435804367\n",
      "Epoch: 58; Step: 0, loss: -0.25659605860710144\n",
      "Epoch: 59; Step: 0, loss: -0.2769114375114441\n",
      "Epoch: 60; Step: 0, loss: -0.2989538908004761\n",
      "Epoch: 61; Step: 0, loss: -0.3204290568828583\n",
      "Epoch: 62; Step: 0, loss: -0.34246626496315\n",
      "Epoch: 63; Step: 0, loss: -0.3644188344478607\n",
      "Epoch: 64; Step: 0, loss: -0.38688984513282776\n",
      "Epoch: 65; Step: 0, loss: -0.40955960750579834\n",
      "Epoch: 66; Step: 0, loss: -0.4301672875881195\n",
      "Epoch: 67; Step: 0, loss: -0.4508100152015686\n",
      "Epoch: 68; Step: 0, loss: -0.4719465374946594\n",
      "Epoch: 69; Step: 0, loss: -0.4931669533252716\n",
      "Epoch: 70; Step: 0, loss: -0.5173900127410889\n",
      "Epoch: 71; Step: 0, loss: -0.5397573709487915\n",
      "Epoch: 72; Step: 0, loss: -0.5607980489730835\n",
      "Epoch: 73; Step: 0, loss: -0.5806044936180115\n",
      "Epoch: 74; Step: 0, loss: -0.6042250990867615\n",
      "Epoch: 75; Step: 0, loss: -0.6239937543869019\n",
      "Epoch: 76; Step: 0, loss: -0.6483975648880005\n",
      "Epoch: 77; Step: 0, loss: -0.6696692109107971\n",
      "Epoch: 78; Step: 0, loss: -0.6904595494270325\n",
      "Epoch: 79; Step: 0, loss: -0.7124217748641968\n",
      "Epoch: 80; Step: 0, loss: -0.7326937913894653\n",
      "Epoch: 81; Step: 0, loss: -0.7547615170478821\n",
      "Epoch: 82; Step: 0, loss: -0.7776622772216797\n",
      "Epoch: 83; Step: 0, loss: -0.7962942123413086\n",
      "Epoch: 84; Step: 0, loss: -0.8202795386314392\n",
      "Epoch: 85; Step: 0, loss: -0.8410252332687378\n",
      "Epoch: 86; Step: 0, loss: -0.8635718822479248\n",
      "Epoch: 87; Step: 0, loss: -0.8825986385345459\n",
      "Epoch: 88; Step: 0, loss: -0.9042961597442627\n",
      "Epoch: 89; Step: 0, loss: -0.9270076751708984\n",
      "Epoch: 90; Step: 0, loss: -0.9453099370002747\n",
      "Epoch: 91; Step: 0, loss: -0.9668399095535278\n",
      "Epoch: 92; Step: 0, loss: -0.9886839985847473\n",
      "Epoch: 93; Step: 0, loss: -1.0104148387908936\n",
      "Epoch: 94; Step: 0, loss: -1.030874252319336\n",
      "Epoch: 95; Step: 0, loss: -1.051534652709961\n",
      "Epoch: 96; Step: 0, loss: -1.0732227563858032\n",
      "Epoch: 97; Step: 0, loss: -1.0956251621246338\n",
      "Epoch: 98; Step: 0, loss: -1.116602897644043\n",
      "Epoch: 99; Step: 0, loss: -1.1360293626785278\n",
      "Epoch: 100; Step: 0, loss: -1.1589455604553223\n",
      "Epoch: 101; Step: 0, loss: -1.1781268119812012\n",
      "Epoch: 102; Step: 0, loss: -1.198501467704773\n",
      "Epoch: 103; Step: 0, loss: -1.219292402267456\n",
      "Epoch: 104; Step: 0, loss: -1.2422680854797363\n",
      "Epoch: 105; Step: 0, loss: -1.262987732887268\n",
      "Epoch: 106; Step: 0, loss: -1.2813389301300049\n",
      "Epoch: 107; Step: 0, loss: -1.3027042150497437\n",
      "Epoch: 108; Step: 0, loss: -1.3222346305847168\n",
      "Epoch: 109; Step: 0, loss: -1.3454487323760986\n",
      "Epoch: 110; Step: 0, loss: -1.362510323524475\n",
      "Epoch: 111; Step: 0, loss: -1.3816722631454468\n",
      "Epoch: 112; Step: 0, loss: -1.403516173362732\n",
      "Epoch: 113; Step: 0, loss: -1.4257971048355103\n",
      "Epoch: 114; Step: 0, loss: -1.4447760581970215\n",
      "Epoch: 115; Step: 0, loss: -1.4657050371170044\n",
      "Epoch: 116; Step: 0, loss: -1.4855290651321411\n",
      "Epoch: 117; Step: 0, loss: -1.5045579671859741\n",
      "Epoch: 118; Step: 0, loss: -1.5262999534606934\n",
      "Epoch: 119; Step: 0, loss: -1.5460233688354492\n",
      "Epoch: 120; Step: 0, loss: -1.5638455152511597\n",
      "Epoch: 121; Step: 0, loss: -1.5877985954284668\n",
      "Epoch: 122; Step: 0, loss: -1.6011685132980347\n",
      "Epoch: 123; Step: 0, loss: -1.6239545345306396\n",
      "Epoch: 124; Step: 0, loss: -1.6397271156311035\n",
      "Epoch: 125; Step: 0, loss: -1.6613645553588867\n",
      "Epoch: 126; Step: 0, loss: -1.6821893453598022\n",
      "Epoch: 127; Step: 0, loss: -1.6961957216262817\n",
      "Epoch: 128; Step: 0, loss: -1.7194284200668335\n",
      "Epoch: 129; Step: 0, loss: -1.739473581314087\n",
      "Epoch: 130; Step: 0, loss: -1.7593287229537964\n",
      "Epoch: 131; Step: 0, loss: -1.7739123106002808\n",
      "Epoch: 132; Step: 0, loss: -1.7963835000991821\n",
      "Epoch: 133; Step: 0, loss: -1.8138370513916016\n",
      "Epoch: 134; Step: 0, loss: -1.8327295780181885\n",
      "Epoch: 135; Step: 0, loss: -1.8500003814697266\n",
      "Epoch: 136; Step: 0, loss: -1.8688758611679077\n",
      "Epoch: 137; Step: 0, loss: -1.8912097215652466\n",
      "Epoch: 138; Step: 0, loss: -1.9095978736877441\n",
      "Epoch: 139; Step: 0, loss: -1.925539493560791\n",
      "Epoch: 140; Step: 0, loss: -1.9464504718780518\n",
      "Epoch: 141; Step: 0, loss: -1.9613569974899292\n",
      "Epoch: 142; Step: 0, loss: -1.97504723072052\n",
      "Epoch: 143; Step: 0, loss: -1.9939815998077393\n",
      "Epoch: 144; Step: 0, loss: -2.0125813484191895\n",
      "Epoch: 145; Step: 0, loss: -2.0292766094207764\n",
      "Epoch: 146; Step: 0, loss: -2.0403177738189697\n",
      "Epoch: 147; Step: 0, loss: -2.0652310848236084\n",
      "Epoch: 148; Step: 0, loss: -2.078746795654297\n",
      "Epoch: 149; Step: 0, loss: -2.101353406906128\n",
      "Epoch: 150; Step: 0, loss: -2.117440700531006\n",
      "Epoch: 151; Step: 0, loss: -2.130722761154175\n",
      "Epoch: 152; Step: 0, loss: -2.1474223136901855\n",
      "Epoch: 153; Step: 0, loss: -2.1627585887908936\n",
      "Epoch: 154; Step: 0, loss: -2.181110143661499\n",
      "Epoch: 155; Step: 0, loss: -2.197384834289551\n",
      "Epoch: 156; Step: 0, loss: -2.207509756088257\n",
      "Epoch: 157; Step: 0, loss: -2.2248990535736084\n",
      "Epoch: 158; Step: 0, loss: -2.2435810565948486\n",
      "Epoch: 159; Step: 0, loss: -2.2557308673858643\n",
      "Epoch: 160; Step: 0, loss: -2.267714023590088\n",
      "Epoch: 161; Step: 0, loss: -2.281972885131836\n",
      "Epoch: 162; Step: 0, loss: -2.2923665046691895\n",
      "Epoch: 163; Step: 0, loss: -2.314751148223877\n",
      "Epoch: 164; Step: 0, loss: -2.317370653152466\n",
      "Epoch: 165; Step: 0, loss: -2.333585023880005\n",
      "Epoch: 166; Step: 0, loss: -2.351672410964966\n",
      "Epoch: 167; Step: 0, loss: -2.37066912651062\n",
      "Epoch: 168; Step: 0, loss: -2.377027988433838\n",
      "Epoch: 169; Step: 0, loss: -2.3952112197875977\n",
      "Epoch: 170; Step: 0, loss: -2.4115889072418213\n",
      "Epoch: 171; Step: 0, loss: -2.4151668548583984\n",
      "Epoch: 172; Step: 0, loss: -2.433446168899536\n",
      "Epoch: 173; Step: 0, loss: -2.4502246379852295\n",
      "Epoch: 174; Step: 0, loss: -2.463019609451294\n",
      "Epoch: 175; Step: 0, loss: -2.466705560684204\n",
      "Epoch: 176; Step: 0, loss: -2.472034215927124\n",
      "Epoch: 177; Step: 0, loss: -2.4840357303619385\n"
     ]
    },
    {
     "name": "stdout",
     "output_type": "stream",
     "text": [
      "Epoch: 178; Step: 0, loss: -2.5107221603393555\n",
      "Epoch: 179; Step: 0, loss: -2.5197978019714355\n",
      "Epoch: 180; Step: 0, loss: -2.528564214706421\n",
      "Epoch: 181; Step: 0, loss: -2.5392510890960693\n",
      "Epoch: 182; Step: 0, loss: -2.5551071166992188\n",
      "Epoch: 183; Step: 0, loss: -2.556549072265625\n",
      "Epoch: 184; Step: 0, loss: -2.5661745071411133\n",
      "Epoch: 185; Step: 0, loss: -2.578415632247925\n",
      "Epoch: 186; Step: 0, loss: -2.5866692066192627\n",
      "Epoch: 187; Step: 0, loss: -2.5917274951934814\n",
      "Epoch: 188; Step: 0, loss: -2.6092545986175537\n",
      "Epoch: 189; Step: 0, loss: -2.619568109512329\n",
      "Epoch: 190; Step: 0, loss: -2.6205222606658936\n",
      "Epoch: 191; Step: 0, loss: -2.634782075881958\n",
      "Epoch: 192; Step: 0, loss: -2.6424076557159424\n",
      "Epoch: 193; Step: 0, loss: -2.648855209350586\n",
      "Epoch: 194; Step: 0, loss: -2.660583972930908\n",
      "Epoch: 195; Step: 0, loss: -2.65451979637146\n",
      "Epoch: 196; Step: 0, loss: -2.675685167312622\n",
      "Epoch: 197; Step: 0, loss: -2.6796257495880127\n",
      "Epoch: 198; Step: 0, loss: -2.6806771755218506\n",
      "Epoch: 199; Step: 0, loss: -2.69826078414917\n",
      "Done! loss: -2.699735403060913\n",
      "\n",
      "Done Training!\n"
     ]
    }
   ],
   "source": [
    "model,likelihood = train_gp(train_dataset,\n",
    "                      num_inducing=num_inducing,\n",
    "                      num_directions=num_directions,\n",
    "                      minibatch_size = minibatch_size,\n",
    "                      minibatch_dim = num_directions,\n",
    "                      num_epochs =num_epochs\n",
    "                      )\n",
    "torch.save(model.state_dict(), \"helens_2_derivatives.model\")"
   ]
  },
  {
   "cell_type": "code",
   "execution_count": 61,
   "metadata": {},
   "outputs": [
    {
     "name": "stdout",
     "output_type": "stream",
     "text": [
      "Done Testing!\n"
     ]
    }
   ],
   "source": [
    "means, variances = eval_gp( test_dataset,model,likelihood,\n",
    "                            num_directions=num_directions,\n",
    "                            minibatch_size=n_test,\n",
    "                            minibatch_dim=num_directions)"
   ]
  },
  {
   "cell_type": "markdown",
   "metadata": {},
   "source": [
    "# Predict"
   ]
  },
  {
   "cell_type": "code",
   "execution_count": 62,
   "metadata": {},
   "outputs": [
    {
     "data": {
      "text/plain": [
       "100"
      ]
     },
     "execution_count": 62,
     "metadata": {},
     "output_type": "execute_result"
    }
   ],
   "source": [
    "x.size(-2)"
   ]
  },
  {
   "cell_type": "code",
   "execution_count": 63,
   "metadata": {},
   "outputs": [
    {
     "name": "stdout",
     "output_type": "stream",
     "text": [
      "torch.Size([40, 2])\n"
     ]
    }
   ],
   "source": [
    "test_loader  = DataLoader(test_dataset, batch_size=n_test, shuffle=True)\n",
    "# predict in batches\n",
    "kwargs = {}\n",
    "derivative_directions = torch.eye(dim)[:num_directions]\n",
    "derivative_directions = derivative_directions.repeat(n_test,1)\n",
    "print(derivative_directions.shape)"
   ]
  },
  {
   "cell_type": "code",
   "execution_count": 64,
   "metadata": {
    "scrolled": true
   },
   "outputs": [],
   "source": [
    "\n",
    "kwargs['derivative_directions'] = derivative_directions\n",
    "#means   = model(test_x, **kwargs).mean.cpu()\n",
    "means = torch.tensor([0.])\n",
    "test_y = torch.zeros(1,dim+1)\n",
    "test_x = torch.zeros(1,dim)\n",
    "with torch.no_grad():\n",
    "    for x_batch, y_batch in test_loader:\n",
    "        preds = model(x_batch,**kwargs)\n",
    "        means = torch.cat([means, preds.mean.cpu()])\n",
    "        test_y = torch.cat([test_y, y_batch])\n",
    "        test_x = torch.cat([test_x, x_batch])\n",
    "\n",
    "means = means[1:]\n",
    "test_y = test_y[1:]\n",
    "test_x = test_x[1:]\n"
   ]
  },
  {
   "cell_type": "code",
   "execution_count": null,
   "metadata": {},
   "outputs": [],
   "source": []
  },
  {
   "cell_type": "code",
   "execution_count": 65,
   "metadata": {},
   "outputs": [
    {
     "name": "stdout",
     "output_type": "stream",
     "text": [
      "\n",
      "Testing MSE: 2.914785363827832e-05\n",
      "\n",
      "Testing RMSE: 0.005398875219735896\n",
      "\n",
      "Testing MAE: 0.004100424237549305\n"
     ]
    }
   ],
   "source": [
    "# compute MSE\n",
    "test_mse = MSE(test_y[:,0],means[::num_directions+1])\n",
    "print(f\"\\nTesting MSE: {test_mse}\")\n",
    "print(f\"\\nTesting RMSE: {math.sqrt(test_mse)}\")\n",
    "test_mae = MAE(test_y[:,0],means[::num_directions+1])\n",
    "print(f\"\\nTesting MAE: {test_mae}\")"
   ]
  },
  {
   "cell_type": "code",
   "execution_count": 66,
   "metadata": {},
   "outputs": [
    {
     "data": {
      "text/plain": [
       "20"
      ]
     },
     "execution_count": 66,
     "metadata": {},
     "output_type": "execute_result"
    }
   ],
   "source": [
    "# testing RMSE is 364 for 1000 epochs...\n",
    "# 300 inducing, 900 datapoints, 10% test, 1500 epochs: MAE = 101, MSE = 126\n",
    "#I suspect that 1500 epochs is not enough. Try 4000 if I have time...\n",
    "len(means[::num_directions+1])"
   ]
  },
  {
   "cell_type": "code",
   "execution_count": 67,
   "metadata": {},
   "outputs": [
    {
     "data": {
      "text/plain": [
       "tensor([[0.0417, 0.0769],\n",
       "        [0.0333, 0.0256],\n",
       "        [0.0417, 0.0256],\n",
       "        [0.0750, 0.0256],\n",
       "        [0.0250, 0.0085],\n",
       "        [0.0500, 0.0427],\n",
       "        [0.0917, 0.0427],\n",
       "        [0.0583, 0.0342],\n",
       "        [0.0167, 0.0256],\n",
       "        [0.0833, 0.0513],\n",
       "        [0.0250, 0.0769],\n",
       "        [0.0083, 0.0684],\n",
       "        [0.0083, 0.0085],\n",
       "        [0.0083, 0.0513],\n",
       "        [0.0333, 0.0171],\n",
       "        [0.0750, 0.0085],\n",
       "        [0.0333, 0.0769],\n",
       "        [0.0583, 0.0256],\n",
       "        [0.0917, 0.0598],\n",
       "        [0.0833, 0.0427]])"
      ]
     },
     "execution_count": 67,
     "metadata": {},
     "output_type": "execute_result"
    }
   ],
   "source": [
    "test_x"
   ]
  },
  {
   "cell_type": "code",
   "execution_count": 68,
   "metadata": {},
   "outputs": [
    {
     "ename": "TypeError",
     "evalue": "Input z must be 2D, not 1D",
     "output_type": "error",
     "traceback": [
      "\u001b[1;31m---------------------------------------------------------------------------\u001b[0m",
      "\u001b[1;31mTypeError\u001b[0m                                 Traceback (most recent call last)",
      "\u001b[1;32m<ipython-input-68-5d6280d6003f>\u001b[0m in \u001b[0;36m<module>\u001b[1;34m\u001b[0m\n\u001b[0;32m      9\u001b[0m \u001b[0mZ\u001b[0m \u001b[1;33m=\u001b[0m \u001b[0mmeans\u001b[0m\u001b[1;33m[\u001b[0m\u001b[1;33m:\u001b[0m\u001b[1;33m:\u001b[0m\u001b[0mnum_directions\u001b[0m\u001b[1;33m+\u001b[0m\u001b[1;36m1\u001b[0m\u001b[1;33m]\u001b[0m\u001b[1;33m\u001b[0m\u001b[1;33m\u001b[0m\u001b[0m\n\u001b[0;32m     10\u001b[0m \u001b[0mfig\u001b[0m\u001b[1;33m,\u001b[0m\u001b[0max\u001b[0m\u001b[1;33m=\u001b[0m\u001b[0mplt\u001b[0m\u001b[1;33m.\u001b[0m\u001b[0msubplots\u001b[0m\u001b[1;33m(\u001b[0m\u001b[1;36m1\u001b[0m\u001b[1;33m,\u001b[0m\u001b[1;36m1\u001b[0m\u001b[1;33m)\u001b[0m\u001b[1;33m\u001b[0m\u001b[1;33m\u001b[0m\u001b[0m\n\u001b[1;32m---> 11\u001b[1;33m \u001b[0mcp\u001b[0m \u001b[1;33m=\u001b[0m \u001b[0max\u001b[0m\u001b[1;33m.\u001b[0m\u001b[0mcontourf\u001b[0m\u001b[1;33m(\u001b[0m\u001b[0mX\u001b[0m\u001b[1;33m,\u001b[0m \u001b[0mY\u001b[0m\u001b[1;33m,\u001b[0m \u001b[0mZ\u001b[0m\u001b[1;33m)\u001b[0m\u001b[1;33m\u001b[0m\u001b[1;33m\u001b[0m\u001b[0m\n\u001b[0m\u001b[0;32m     12\u001b[0m \u001b[0mfig\u001b[0m\u001b[1;33m.\u001b[0m\u001b[0mcolorbar\u001b[0m\u001b[1;33m(\u001b[0m\u001b[0mcp\u001b[0m\u001b[1;33m)\u001b[0m \u001b[1;31m# Add a colorbar to a plot\u001b[0m\u001b[1;33m\u001b[0m\u001b[1;33m\u001b[0m\u001b[0m\n\u001b[0;32m     13\u001b[0m \u001b[0max\u001b[0m\u001b[1;33m.\u001b[0m\u001b[0mset_title\u001b[0m\u001b[1;33m(\u001b[0m\u001b[1;34m'Filled Contours Plot'\u001b[0m\u001b[1;33m)\u001b[0m\u001b[1;33m\u001b[0m\u001b[1;33m\u001b[0m\u001b[0m\n",
      "\u001b[1;32mc:\\users\\leo huang\\appdata\\local\\programs\\python\\python37\\lib\\site-packages\\matplotlib\\__init__.py\u001b[0m in \u001b[0;36minner\u001b[1;34m(ax, data, *args, **kwargs)\u001b[0m\n\u001b[0;32m   1429\u001b[0m     \u001b[1;32mdef\u001b[0m \u001b[0minner\u001b[0m\u001b[1;33m(\u001b[0m\u001b[0max\u001b[0m\u001b[1;33m,\u001b[0m \u001b[1;33m*\u001b[0m\u001b[0margs\u001b[0m\u001b[1;33m,\u001b[0m \u001b[0mdata\u001b[0m\u001b[1;33m=\u001b[0m\u001b[1;32mNone\u001b[0m\u001b[1;33m,\u001b[0m \u001b[1;33m**\u001b[0m\u001b[0mkwargs\u001b[0m\u001b[1;33m)\u001b[0m\u001b[1;33m:\u001b[0m\u001b[1;33m\u001b[0m\u001b[1;33m\u001b[0m\u001b[0m\n\u001b[0;32m   1430\u001b[0m         \u001b[1;32mif\u001b[0m \u001b[0mdata\u001b[0m \u001b[1;32mis\u001b[0m \u001b[1;32mNone\u001b[0m\u001b[1;33m:\u001b[0m\u001b[1;33m\u001b[0m\u001b[1;33m\u001b[0m\u001b[0m\n\u001b[1;32m-> 1431\u001b[1;33m             \u001b[1;32mreturn\u001b[0m \u001b[0mfunc\u001b[0m\u001b[1;33m(\u001b[0m\u001b[0max\u001b[0m\u001b[1;33m,\u001b[0m \u001b[1;33m*\u001b[0m\u001b[0mmap\u001b[0m\u001b[1;33m(\u001b[0m\u001b[0msanitize_sequence\u001b[0m\u001b[1;33m,\u001b[0m \u001b[0margs\u001b[0m\u001b[1;33m)\u001b[0m\u001b[1;33m,\u001b[0m \u001b[1;33m**\u001b[0m\u001b[0mkwargs\u001b[0m\u001b[1;33m)\u001b[0m\u001b[1;33m\u001b[0m\u001b[1;33m\u001b[0m\u001b[0m\n\u001b[0m\u001b[0;32m   1432\u001b[0m \u001b[1;33m\u001b[0m\u001b[0m\n\u001b[0;32m   1433\u001b[0m         \u001b[0mbound\u001b[0m \u001b[1;33m=\u001b[0m \u001b[0mnew_sig\u001b[0m\u001b[1;33m.\u001b[0m\u001b[0mbind\u001b[0m\u001b[1;33m(\u001b[0m\u001b[0max\u001b[0m\u001b[1;33m,\u001b[0m \u001b[1;33m*\u001b[0m\u001b[0margs\u001b[0m\u001b[1;33m,\u001b[0m \u001b[1;33m**\u001b[0m\u001b[0mkwargs\u001b[0m\u001b[1;33m)\u001b[0m\u001b[1;33m\u001b[0m\u001b[1;33m\u001b[0m\u001b[0m\n",
      "\u001b[1;32mc:\\users\\leo huang\\appdata\\local\\programs\\python\\python37\\lib\\site-packages\\matplotlib\\axes\\_axes.py\u001b[0m in \u001b[0;36mcontourf\u001b[1;34m(self, *args, **kwargs)\u001b[0m\n\u001b[0;32m   6317\u001b[0m     \u001b[1;32mdef\u001b[0m \u001b[0mcontourf\u001b[0m\u001b[1;33m(\u001b[0m\u001b[0mself\u001b[0m\u001b[1;33m,\u001b[0m \u001b[1;33m*\u001b[0m\u001b[0margs\u001b[0m\u001b[1;33m,\u001b[0m \u001b[1;33m**\u001b[0m\u001b[0mkwargs\u001b[0m\u001b[1;33m)\u001b[0m\u001b[1;33m:\u001b[0m\u001b[1;33m\u001b[0m\u001b[1;33m\u001b[0m\u001b[0m\n\u001b[0;32m   6318\u001b[0m         \u001b[0mkwargs\u001b[0m\u001b[1;33m[\u001b[0m\u001b[1;34m'filled'\u001b[0m\u001b[1;33m]\u001b[0m \u001b[1;33m=\u001b[0m \u001b[1;32mTrue\u001b[0m\u001b[1;33m\u001b[0m\u001b[1;33m\u001b[0m\u001b[0m\n\u001b[1;32m-> 6319\u001b[1;33m         \u001b[0mcontours\u001b[0m \u001b[1;33m=\u001b[0m \u001b[0mmcontour\u001b[0m\u001b[1;33m.\u001b[0m\u001b[0mQuadContourSet\u001b[0m\u001b[1;33m(\u001b[0m\u001b[0mself\u001b[0m\u001b[1;33m,\u001b[0m \u001b[1;33m*\u001b[0m\u001b[0margs\u001b[0m\u001b[1;33m,\u001b[0m \u001b[1;33m**\u001b[0m\u001b[0mkwargs\u001b[0m\u001b[1;33m)\u001b[0m\u001b[1;33m\u001b[0m\u001b[1;33m\u001b[0m\u001b[0m\n\u001b[0m\u001b[0;32m   6320\u001b[0m         \u001b[0mself\u001b[0m\u001b[1;33m.\u001b[0m\u001b[0m_request_autoscale_view\u001b[0m\u001b[1;33m(\u001b[0m\u001b[1;33m)\u001b[0m\u001b[1;33m\u001b[0m\u001b[1;33m\u001b[0m\u001b[0m\n\u001b[0;32m   6321\u001b[0m         \u001b[1;32mreturn\u001b[0m \u001b[0mcontours\u001b[0m\u001b[1;33m\u001b[0m\u001b[1;33m\u001b[0m\u001b[0m\n",
      "\u001b[1;32mc:\\users\\leo huang\\appdata\\local\\programs\\python\\python37\\lib\\site-packages\\matplotlib\\contour.py\u001b[0m in \u001b[0;36m__init__\u001b[1;34m(self, ax, levels, filled, linewidths, linestyles, hatches, alpha, origin, extent, cmap, colors, norm, vmin, vmax, extend, antialiased, nchunk, locator, transform, *args, **kwargs)\u001b[0m\n\u001b[0;32m    814\u001b[0m         \u001b[0mself\u001b[0m\u001b[1;33m.\u001b[0m\u001b[0m_transform\u001b[0m \u001b[1;33m=\u001b[0m \u001b[0mtransform\u001b[0m\u001b[1;33m\u001b[0m\u001b[1;33m\u001b[0m\u001b[0m\n\u001b[0;32m    815\u001b[0m \u001b[1;33m\u001b[0m\u001b[0m\n\u001b[1;32m--> 816\u001b[1;33m         \u001b[0mkwargs\u001b[0m \u001b[1;33m=\u001b[0m \u001b[0mself\u001b[0m\u001b[1;33m.\u001b[0m\u001b[0m_process_args\u001b[0m\u001b[1;33m(\u001b[0m\u001b[1;33m*\u001b[0m\u001b[0margs\u001b[0m\u001b[1;33m,\u001b[0m \u001b[1;33m**\u001b[0m\u001b[0mkwargs\u001b[0m\u001b[1;33m)\u001b[0m\u001b[1;33m\u001b[0m\u001b[1;33m\u001b[0m\u001b[0m\n\u001b[0m\u001b[0;32m    817\u001b[0m         \u001b[0mself\u001b[0m\u001b[1;33m.\u001b[0m\u001b[0m_process_levels\u001b[0m\u001b[1;33m(\u001b[0m\u001b[1;33m)\u001b[0m\u001b[1;33m\u001b[0m\u001b[1;33m\u001b[0m\u001b[0m\n\u001b[0;32m    818\u001b[0m \u001b[1;33m\u001b[0m\u001b[0m\n",
      "\u001b[1;32mc:\\users\\leo huang\\appdata\\local\\programs\\python\\python37\\lib\\site-packages\\matplotlib\\contour.py\u001b[0m in \u001b[0;36m_process_args\u001b[1;34m(self, corner_mask, *args, **kwargs)\u001b[0m\n\u001b[0;32m   1428\u001b[0m             \u001b[0mself\u001b[0m\u001b[1;33m.\u001b[0m\u001b[0m_corner_mask\u001b[0m \u001b[1;33m=\u001b[0m \u001b[0mcorner_mask\u001b[0m\u001b[1;33m\u001b[0m\u001b[1;33m\u001b[0m\u001b[0m\n\u001b[0;32m   1429\u001b[0m \u001b[1;33m\u001b[0m\u001b[0m\n\u001b[1;32m-> 1430\u001b[1;33m             \u001b[0mx\u001b[0m\u001b[1;33m,\u001b[0m \u001b[0my\u001b[0m\u001b[1;33m,\u001b[0m \u001b[0mz\u001b[0m \u001b[1;33m=\u001b[0m \u001b[0mself\u001b[0m\u001b[1;33m.\u001b[0m\u001b[0m_contour_args\u001b[0m\u001b[1;33m(\u001b[0m\u001b[0margs\u001b[0m\u001b[1;33m,\u001b[0m \u001b[0mkwargs\u001b[0m\u001b[1;33m)\u001b[0m\u001b[1;33m\u001b[0m\u001b[1;33m\u001b[0m\u001b[0m\n\u001b[0m\u001b[0;32m   1431\u001b[0m \u001b[1;33m\u001b[0m\u001b[0m\n\u001b[0;32m   1432\u001b[0m             \u001b[0m_mask\u001b[0m \u001b[1;33m=\u001b[0m \u001b[0mma\u001b[0m\u001b[1;33m.\u001b[0m\u001b[0mgetmask\u001b[0m\u001b[1;33m(\u001b[0m\u001b[0mz\u001b[0m\u001b[1;33m)\u001b[0m\u001b[1;33m\u001b[0m\u001b[1;33m\u001b[0m\u001b[0m\n",
      "\u001b[1;32mc:\\users\\leo huang\\appdata\\local\\programs\\python\\python37\\lib\\site-packages\\matplotlib\\contour.py\u001b[0m in \u001b[0;36m_contour_args\u001b[1;34m(self, args, kwargs)\u001b[0m\n\u001b[0;32m   1486\u001b[0m             \u001b[0margs\u001b[0m \u001b[1;33m=\u001b[0m \u001b[0margs\u001b[0m\u001b[1;33m[\u001b[0m\u001b[1;36m1\u001b[0m\u001b[1;33m:\u001b[0m\u001b[1;33m]\u001b[0m\u001b[1;33m\u001b[0m\u001b[1;33m\u001b[0m\u001b[0m\n\u001b[0;32m   1487\u001b[0m         \u001b[1;32melif\u001b[0m \u001b[0mNargs\u001b[0m \u001b[1;33m<=\u001b[0m \u001b[1;36m4\u001b[0m\u001b[1;33m:\u001b[0m\u001b[1;33m\u001b[0m\u001b[1;33m\u001b[0m\u001b[0m\n\u001b[1;32m-> 1488\u001b[1;33m             \u001b[0mx\u001b[0m\u001b[1;33m,\u001b[0m \u001b[0my\u001b[0m\u001b[1;33m,\u001b[0m \u001b[0mz\u001b[0m \u001b[1;33m=\u001b[0m \u001b[0mself\u001b[0m\u001b[1;33m.\u001b[0m\u001b[0m_check_xyz\u001b[0m\u001b[1;33m(\u001b[0m\u001b[0margs\u001b[0m\u001b[1;33m[\u001b[0m\u001b[1;33m:\u001b[0m\u001b[1;36m3\u001b[0m\u001b[1;33m]\u001b[0m\u001b[1;33m,\u001b[0m \u001b[0mkwargs\u001b[0m\u001b[1;33m)\u001b[0m\u001b[1;33m\u001b[0m\u001b[1;33m\u001b[0m\u001b[0m\n\u001b[0m\u001b[0;32m   1489\u001b[0m             \u001b[0margs\u001b[0m \u001b[1;33m=\u001b[0m \u001b[0margs\u001b[0m\u001b[1;33m[\u001b[0m\u001b[1;36m3\u001b[0m\u001b[1;33m:\u001b[0m\u001b[1;33m]\u001b[0m\u001b[1;33m\u001b[0m\u001b[1;33m\u001b[0m\u001b[0m\n\u001b[0;32m   1490\u001b[0m         \u001b[1;32melse\u001b[0m\u001b[1;33m:\u001b[0m\u001b[1;33m\u001b[0m\u001b[1;33m\u001b[0m\u001b[0m\n",
      "\u001b[1;32mc:\\users\\leo huang\\appdata\\local\\programs\\python\\python37\\lib\\site-packages\\matplotlib\\contour.py\u001b[0m in \u001b[0;36m_check_xyz\u001b[1;34m(self, args, kwargs)\u001b[0m\n\u001b[0;32m   1517\u001b[0m \u001b[1;33m\u001b[0m\u001b[0m\n\u001b[0;32m   1518\u001b[0m         \u001b[1;32mif\u001b[0m \u001b[0mz\u001b[0m\u001b[1;33m.\u001b[0m\u001b[0mndim\u001b[0m \u001b[1;33m!=\u001b[0m \u001b[1;36m2\u001b[0m\u001b[1;33m:\u001b[0m\u001b[1;33m\u001b[0m\u001b[1;33m\u001b[0m\u001b[0m\n\u001b[1;32m-> 1519\u001b[1;33m             \u001b[1;32mraise\u001b[0m \u001b[0mTypeError\u001b[0m\u001b[1;33m(\u001b[0m\u001b[1;34mf\"Input z must be 2D, not {z.ndim}D\"\u001b[0m\u001b[1;33m)\u001b[0m\u001b[1;33m\u001b[0m\u001b[1;33m\u001b[0m\u001b[0m\n\u001b[0m\u001b[0;32m   1520\u001b[0m         \u001b[1;32mif\u001b[0m \u001b[0mz\u001b[0m\u001b[1;33m.\u001b[0m\u001b[0mshape\u001b[0m\u001b[1;33m[\u001b[0m\u001b[1;36m0\u001b[0m\u001b[1;33m]\u001b[0m \u001b[1;33m<\u001b[0m \u001b[1;36m2\u001b[0m \u001b[1;32mor\u001b[0m \u001b[0mz\u001b[0m\u001b[1;33m.\u001b[0m\u001b[0mshape\u001b[0m\u001b[1;33m[\u001b[0m\u001b[1;36m1\u001b[0m\u001b[1;33m]\u001b[0m \u001b[1;33m<\u001b[0m \u001b[1;36m2\u001b[0m\u001b[1;33m:\u001b[0m\u001b[1;33m\u001b[0m\u001b[1;33m\u001b[0m\u001b[0m\n\u001b[0;32m   1521\u001b[0m             raise TypeError(f\"Input z must be at least a (2, 2) shaped array, \"\n",
      "\u001b[1;31mTypeError\u001b[0m: Input z must be 2D, not 1D"
     ]
    },
    {
     "data": {
      "image/png": "[encoded data removed]",
      "text/plain": [
       "<Figure size 432x288 with 1 Axes>"
      ]
     },
     "metadata": {
      "needs_background": "light"
     },
     "output_type": "display_data"
    }
   ],
   "source": [
    "import numpy as np\n",
    "import matplotlib.pyplot as plt\n",
    "#xlist = np.linspace(-3.0, 3.0, 100)\n",
    "#ylist = np.linspace(-3.0, 3.0, 100)\n",
    "#X, Y = np.meshgrid(xlist, ylist)\n",
    "#Z = np.sqrt(X**2 + Y**2)\n",
    "X = test_x[:, 0]\n",
    "Y = test_x[:, 1]\n",
    "Z = means[::num_directions+1]\n",
    "fig,ax=plt.subplots(1,1)\n",
    "cp = ax.contourf(X, Y, Z)\n",
    "fig.colorbar(cp) # Add a colorbar to a plot\n",
    "ax.set_title('Filled Contours Plot')\n",
    "#ax.set_xlabel('x (cm)')\n",
    "ax.set_ylabel('y (cm)')\n",
    "plt.show()"
   ]
  },
  {
   "cell_type": "code",
   "execution_count": null,
   "metadata": {},
   "outputs": [],
   "source": [
    "matplotlib.pyplot.contour(test_x[:, 0], test_x[:, 1], means[::num_directions+1])"
   ]
  },
  {
   "cell_type": "markdown",
   "metadata": {},
   "source": [
    "# Plot Actual vs Prediction"
   ]
  },
  {
   "cell_type": "code",
   "execution_count": null,
   "metadata": {},
   "outputs": [],
   "source": [
    "test_dataset"
   ]
  },
  {
   "cell_type": "code",
   "execution_count": null,
   "metadata": {},
   "outputs": [],
   "source": [
    "#from mpl_toolkits.mplot3d import axes3d\n",
    "#import matplotlib.pyplot as plt\n",
    "#fig = plt.figure(figsize=(12,6))\n",
    "#ax = fig.add_subplot(111, projection='3d')\n",
    "#ax.scatter(train_x[:,0],train_x[:,1],train_y[:,0], color='k')\n",
    "#ax.scatter(train_x[:,0],train_x[:,1],preds.detach().numpy()[::num_directions+1], color='b')\n",
    "#plt.title(\"f(x,y) variational fit; actual curve is black, variational is blue\")\n",
    "#plt.show()"
   ]
  },
  {
   "cell_type": "code",
   "execution_count": null,
   "metadata": {},
   "outputs": [],
   "source": []
  },
  {
   "cell_type": "code",
   "execution_count": null,
   "metadata": {},
   "outputs": [],
   "source": [
    "x = torch.tensor([-1, -2, -3]).abs()"
   ]
  },
  {
   "cell_type": "code",
   "execution_count": null,
   "metadata": {},
   "outputs": [],
   "source": [
    "x"
   ]
  },
  {
   "cell_type": "code",
   "execution_count": null,
   "metadata": {},
   "outputs": [],
   "source": []
  },
  {
   "cell_type": "code",
   "execution_count": null,
   "metadata": {},
   "outputs": [],
   "source": []
  }
 ],
 "metadata": {
  "kernelspec": {
   "display_name": "Python 3",
   "language": "python",
   "name": "python3"
  },
  "language_info": {
   "codemirror_mode": {
    "name": "ipython",
    "version": 3
   },
   "file_extension": ".py",
   "mimetype": "text/x-python",
   "name": "python",
   "nbconvert_exporter": "python",
   "pygments_lexer": "ipython3",
   "version": "3.7.8"
  }
 },
 "nbformat": 4,
 "nbformat_minor": 4
}
