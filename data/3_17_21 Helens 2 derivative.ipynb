{
 "cells": [
  {
   "cell_type": "markdown",
   "metadata": {},
   "source": [
    "# Mount St. Helens Countour Dataset"
   ]
  },
  {
   "cell_type": "code",
   "execution_count": 1,
   "metadata": {},
   "outputs": [
    {
     "name": "stdout",
     "output_type": "stream",
     "text": [
      "in Directional Grad Variational Strategy.py\n"
     ]
    }
   ],
   "source": [
    "import math\n",
    "import numpy as np\n",
    "import torch\n",
    "import gpytorch\n",
    "import tqdm\n",
    "import random\n",
    "from matplotlib import pyplot as plt\n",
    "from torch.utils.data import TensorDataset, DataLoader\n",
    "import sys\n",
    "import sys\n",
    "import scipy.io\n",
    "import torch\n",
    "import numpy as np \n",
    "sys.path.append(\"../directionalvi\")\n",
    "#sys.path.append(\"../../data\")\n",
    "sys.path.append(\"../directionalvi/utils\")\n",
    "from directional_vi import train_gp\n",
    "from metrics import MSE\n",
    "from metrics import MAE\n"
   ]
  },
  {
   "cell_type": "code",
   "execution_count": 2,
   "metadata": {},
   "outputs": [],
   "source": [
    "#load data\n",
    "mat = scipy.io.loadmat('MtSH.mat')\n",
    "x = torch.tensor(np.float64(mat['mth_points'])).float()\n",
    "y = torch.tensor(np.float64(mat['mth_verts'])).float()\n",
    "y = y - torch.mean(y)\n",
    "dy = torch.tensor(np.float64(mat['mth_grads'])).float()\n",
    "data = torch.cat((y, dy), dim = 1).float()\n",
    "full_data = torch.cat((x, data), dim=1).float() #location concatenated with y and dy values\n"
   ]
  },
  {
   "cell_type": "code",
   "execution_count": null,
   "metadata": {},
   "outputs": [],
   "source": []
  },
  {
   "cell_type": "markdown",
   "metadata": {},
   "source": [
    "# Filter and Round Dataset (If Applicable)"
   ]
  },
  {
   "cell_type": "code",
   "execution_count": 3,
   "metadata": {},
   "outputs": [
    {
     "name": "stdout",
     "output_type": "stream",
     "text": [
      "900\n"
     ]
    }
   ],
   "source": [
    "temp_full_data = np.array(full_data)\n",
    "def fun(x, val = 250):\n",
    "    if x[0]>250 or x[1]>250:       \n",
    "        return False \n",
    "    else:\n",
    "        return True\n",
    "filtered = filter(fun, temp_full_data)\n",
    "#for item in filtered:\n",
    "#    print(item)\n",
    "arr = [item for item in filtered]\n",
    "len_arr = len(arr)\n",
    "len_arr = len_arr - len_arr%100\n",
    "arr = arr[:len_arr]\n",
    "#full_data_truncated = torch.tensor(arr)\n",
    "print(len(arr))"
   ]
  },
  {
   "cell_type": "code",
   "execution_count": 33,
   "metadata": {},
   "outputs": [
    {
     "data": {
      "text/plain": [
       "<matplotlib.collections.PathCollection at 0x1a6d354cc08>"
      ]
     },
     "execution_count": 33,
     "metadata": {},
     "output_type": "execute_result"
    },
    {
     "data": {
      "image/png": "[encoded data removed]",
      "text/plain": [
       "<Figure size 432x288 with 1 Axes>"
      ]
     },
     "metadata": {
      "needs_background": "light"
     },
     "output_type": "display_data"
    }
   ],
   "source": [
    "xs1 = [item[0] for item in arr]\n",
    "xs2 = [item[1] for item in arr]\n",
    "plt.scatter(xs1, xs2)"
   ]
  },
  {
   "cell_type": "code",
   "execution_count": 34,
   "metadata": {},
   "outputs": [
    {
     "name": "stdout",
     "output_type": "stream",
     "text": [
      "tensor(412.5541)\n",
      "tensor(-225.6771)\n"
     ]
    }
   ],
   "source": [
    "#recover x and data from filtered concatenated values\n",
    "x = torch.tensor([item[0:2] for item in arr])\n",
    "data = torch.tensor([item[2:] for item in arr])\n",
    "data[:, 0] = data[:, 0] - torch.mean(data[:, 0]) #normalize\n",
    "print(max(data[:, 0]))\n",
    "print(min(data[:, 0]))"
   ]
  },
  {
   "cell_type": "code",
   "execution_count": 35,
   "metadata": {},
   "outputs": [
    {
     "name": "stdout",
     "output_type": "stream",
     "text": [
      "n is:  1300\n",
      "n_test is:  130\n",
      "num_inducing is: 400\n",
      "num_directions is:  2\n"
     ]
    }
   ],
   "source": [
    "# data parameters\n",
    "n  = data.shape[0] \n",
    "dim = 2\n",
    "n_test = n//10\n",
    "\n",
    "# training params\n",
    "num_inducing = 400\n",
    "num_directions = dim\n",
    "minibatch_size = n_test #how does minibatch size impact convergence rate\n",
    "num_epochs = 4000\n",
    "\n",
    "#print\n",
    "print(\"n is: \", n)\n",
    "print(\"n_test is: \", n_test)\n",
    "print(\"num_inducing is:\", num_inducing)\n",
    "print(\"num_directions is: \", num_directions)\n",
    "\n",
    "# generate training data\n",
    "dataset = TensorDataset(x, data)"
   ]
  },
  {
   "cell_type": "markdown",
   "metadata": {},
   "source": [
    "# Plotting"
   ]
  },
  {
   "cell_type": "code",
   "execution_count": null,
   "metadata": {},
   "outputs": [],
   "source": []
  },
  {
   "cell_type": "code",
   "execution_count": 7,
   "metadata": {},
   "outputs": [],
   "source": [
    "train_dataset, test_dataset = torch.utils.data.random_split(dataset, [n_test, n-n_test], generator=torch.Generator().manual_seed(42))"
   ]
  },
  {
   "cell_type": "code",
   "execution_count": null,
   "metadata": {},
   "outputs": [],
   "source": []
  },
  {
   "cell_type": "code",
   "execution_count": null,
   "metadata": {},
   "outputs": [],
   "source": []
  },
  {
   "cell_type": "code",
   "execution_count": 8,
   "metadata": {},
   "outputs": [],
   "source": [
    "train_dataset\n",
    "train_loader  = DataLoader(train_dataset, batch_size=minibatch_size, shuffle=True)\n",
    "dim = len(train_dataset[0][0])\n",
    "n_samples = len(train_dataset)"
   ]
  },
  {
   "cell_type": "code",
   "execution_count": 9,
   "metadata": {},
   "outputs": [
    {
     "data": {
      "text/plain": [
       "90"
      ]
     },
     "execution_count": 9,
     "metadata": {},
     "output_type": "execute_result"
    }
   ],
   "source": [
    "n_samples"
   ]
  },
  {
   "cell_type": "markdown",
   "metadata": {
    "scrolled": true
   },
   "source": [
    "model,likelihood = train_gp(train_dataset,\n",
    "                      num_inducing=num_inducing,\n",
    "                      num_directions=num_directions,\n",
    "                      minibatch_size = minibatch_size,\n",
    "                      minibatch_dim = num_directions,\n",
    "                      num_epochs =num_epochs\n",
    "                      )"
   ]
  },
  {
   "cell_type": "code",
   "execution_count": 22,
   "metadata": {},
   "outputs": [
    {
     "data": {
      "text/plain": [
       "GaussianLikelihood(\n",
       "  (noise_covar): HomoskedasticNoise(\n",
       "    (raw_noise_constraint): GreaterThan(1.000E-04)\n",
       "  )\n",
       ")"
      ]
     },
     "execution_count": 22,
     "metadata": {},
     "output_type": "execute_result"
    }
   ],
   "source": [
    "model.eval()\n",
    "likelihood.eval()"
   ]
  },
  {
   "cell_type": "code",
   "execution_count": 23,
   "metadata": {},
   "outputs": [],
   "source": [
    "torch.save(model.state_dict(), \"helens_2_derivatives.model\")"
   ]
  },
  {
   "cell_type": "markdown",
   "metadata": {},
   "source": [
    "# Predict"
   ]
  },
  {
   "cell_type": "code",
   "execution_count": 24,
   "metadata": {},
   "outputs": [
    {
     "data": {
      "text/plain": [
       "900"
      ]
     },
     "execution_count": 24,
     "metadata": {},
     "output_type": "execute_result"
    }
   ],
   "source": [
    "x.size(-2)"
   ]
  },
  {
   "cell_type": "code",
   "execution_count": 25,
   "metadata": {},
   "outputs": [
    {
     "name": "stdout",
     "output_type": "stream",
     "text": [
      "torch.Size([180, 2])\n"
     ]
    }
   ],
   "source": [
    "test_loader  = DataLoader(test_dataset, batch_size=n_test, shuffle=True)\n",
    "# predict in batches\n",
    "kwargs = {}\n",
    "derivative_directions = torch.eye(dim)[:num_directions]\n",
    "derivative_directions = derivative_directions.repeat(n_test,1)\n",
    "print(derivative_directions.shape)"
   ]
  },
  {
   "cell_type": "code",
   "execution_count": 26,
   "metadata": {
    "scrolled": true
   },
   "outputs": [
    {
     "name": "stdout",
     "output_type": "stream",
     "text": [
      "num_induc is:  400\n",
      "num_data is:  90\n",
      "num_derivative_directions is:  2\n",
      "num_directions is:  2\n",
      "num_induc is:  400\n",
      "num_data is:  90\n",
      "num_derivative_directions is:  2\n",
      "num_directions is:  2\n",
      "num_induc is:  400\n",
      "num_data is:  90\n",
      "num_derivative_directions is:  2\n",
      "num_directions is:  2\n",
      "num_induc is:  400\n",
      "num_data is:  90\n",
      "num_derivative_directions is:  2\n",
      "num_directions is:  2\n",
      "num_induc is:  400\n",
      "num_data is:  90\n",
      "num_derivative_directions is:  2\n",
      "num_directions is:  2\n",
      "num_induc is:  400\n",
      "num_data is:  90\n",
      "num_derivative_directions is:  2\n",
      "num_directions is:  2\n",
      "num_induc is:  400\n",
      "num_data is:  90\n",
      "num_derivative_directions is:  2\n",
      "num_directions is:  2\n",
      "num_induc is:  400\n",
      "num_data is:  90\n",
      "num_derivative_directions is:  2\n",
      "num_directions is:  2\n",
      "num_induc is:  400\n",
      "num_data is:  90\n",
      "num_derivative_directions is:  2\n",
      "num_directions is:  2\n"
     ]
    }
   ],
   "source": [
    "\n",
    "kwargs['derivative_directions'] = derivative_directions\n",
    "#means   = model(test_x, **kwargs).mean.cpu()\n",
    "means = torch.tensor([0.])\n",
    "test_y = torch.zeros(1,dim+1)\n",
    "test_x = torch.zeros(1,dim)\n",
    "with torch.no_grad():\n",
    "    for x_batch, y_batch in test_loader:\n",
    "        preds = model(x_batch,**kwargs)\n",
    "        means = torch.cat([means, preds.mean.cpu()])\n",
    "        test_y = torch.cat([test_y, y_batch])\n",
    "        test_x = torch.cat([test_x, x_batch])\n",
    "\n",
    "means = means[1:]\n",
    "test_y = test_y[1:]\n",
    "test_x = test_x[1:]\n"
   ]
  },
  {
   "cell_type": "code",
   "execution_count": null,
   "metadata": {},
   "outputs": [],
   "source": []
  },
  {
   "cell_type": "code",
   "execution_count": 27,
   "metadata": {},
   "outputs": [
    {
     "name": "stdout",
     "output_type": "stream",
     "text": [
      "\n",
      "Testing MSE: 16052.6767578125\n",
      "\n",
      "Testing RMSE: 126.69915847318205\n",
      "\n",
      "Testing MAE: 101.95784759521484\n"
     ]
    }
   ],
   "source": [
    "# compute MSE\n",
    "test_mse = MSE(test_y[:,0],means[::num_directions+1])\n",
    "print(f\"\\nTesting MSE: {test_mse}\")\n",
    "print(f\"\\nTesting RMSE: {math.sqrt(test_mse)}\")\n",
    "test_mae = MAE(test_y[:,0],means[::num_directions+1])\n",
    "print(f\"\\nTesting MAE: {test_mae}\")"
   ]
  },
  {
   "cell_type": "code",
   "execution_count": 28,
   "metadata": {},
   "outputs": [],
   "source": [
    "# testing RMSE is 364 for 1000 epochs...\n",
    "# 300 inducing, 900 datapoints, 10% test, 1500 epochs: MAE = 101, MSE = 126\n",
    "#I suspect that 1500 epochs is not enough. Try 4000 if I have time..."
   ]
  },
  {
   "cell_type": "markdown",
   "metadata": {},
   "source": [
    "# Plot Actual vs Prediction"
   ]
  },
  {
   "cell_type": "code",
   "execution_count": 29,
   "metadata": {},
   "outputs": [
    {
     "ename": "NameError",
     "evalue": "name 'train_x' is not defined",
     "output_type": "error",
     "traceback": [
      "\u001b[1;31m---------------------------------------------------------------------------\u001b[0m",
      "\u001b[1;31mNameError\u001b[0m                                 Traceback (most recent call last)",
      "\u001b[1;32m<ipython-input-29-de2f99bb2965>\u001b[0m in \u001b[0;36m<module>\u001b[1;34m\u001b[0m\n\u001b[0;32m      3\u001b[0m \u001b[0mfig\u001b[0m \u001b[1;33m=\u001b[0m \u001b[0mplt\u001b[0m\u001b[1;33m.\u001b[0m\u001b[0mfigure\u001b[0m\u001b[1;33m(\u001b[0m\u001b[0mfigsize\u001b[0m\u001b[1;33m=\u001b[0m\u001b[1;33m(\u001b[0m\u001b[1;36m12\u001b[0m\u001b[1;33m,\u001b[0m\u001b[1;36m6\u001b[0m\u001b[1;33m)\u001b[0m\u001b[1;33m)\u001b[0m\u001b[1;33m\u001b[0m\u001b[1;33m\u001b[0m\u001b[0m\n\u001b[0;32m      4\u001b[0m \u001b[0max\u001b[0m \u001b[1;33m=\u001b[0m \u001b[0mfig\u001b[0m\u001b[1;33m.\u001b[0m\u001b[0madd_subplot\u001b[0m\u001b[1;33m(\u001b[0m\u001b[1;36m111\u001b[0m\u001b[1;33m,\u001b[0m \u001b[0mprojection\u001b[0m\u001b[1;33m=\u001b[0m\u001b[1;34m'3d'\u001b[0m\u001b[1;33m)\u001b[0m\u001b[1;33m\u001b[0m\u001b[1;33m\u001b[0m\u001b[0m\n\u001b[1;32m----> 5\u001b[1;33m \u001b[0max\u001b[0m\u001b[1;33m.\u001b[0m\u001b[0mscatter\u001b[0m\u001b[1;33m(\u001b[0m\u001b[0mtrain_x\u001b[0m\u001b[1;33m[\u001b[0m\u001b[1;33m:\u001b[0m\u001b[1;33m,\u001b[0m\u001b[1;36m0\u001b[0m\u001b[1;33m]\u001b[0m\u001b[1;33m,\u001b[0m\u001b[0mtrain_x\u001b[0m\u001b[1;33m[\u001b[0m\u001b[1;33m:\u001b[0m\u001b[1;33m,\u001b[0m\u001b[1;36m1\u001b[0m\u001b[1;33m]\u001b[0m\u001b[1;33m,\u001b[0m\u001b[0mtrain_y\u001b[0m\u001b[1;33m[\u001b[0m\u001b[1;33m:\u001b[0m\u001b[1;33m,\u001b[0m\u001b[1;36m0\u001b[0m\u001b[1;33m]\u001b[0m\u001b[1;33m,\u001b[0m \u001b[0mcolor\u001b[0m\u001b[1;33m=\u001b[0m\u001b[1;34m'k'\u001b[0m\u001b[1;33m)\u001b[0m\u001b[1;33m\u001b[0m\u001b[1;33m\u001b[0m\u001b[0m\n\u001b[0m\u001b[0;32m      6\u001b[0m \u001b[0max\u001b[0m\u001b[1;33m.\u001b[0m\u001b[0mscatter\u001b[0m\u001b[1;33m(\u001b[0m\u001b[0mtrain_x\u001b[0m\u001b[1;33m[\u001b[0m\u001b[1;33m:\u001b[0m\u001b[1;33m,\u001b[0m\u001b[1;36m0\u001b[0m\u001b[1;33m]\u001b[0m\u001b[1;33m,\u001b[0m\u001b[0mtrain_x\u001b[0m\u001b[1;33m[\u001b[0m\u001b[1;33m:\u001b[0m\u001b[1;33m,\u001b[0m\u001b[1;36m1\u001b[0m\u001b[1;33m]\u001b[0m\u001b[1;33m,\u001b[0m\u001b[0mpreds\u001b[0m\u001b[1;33m.\u001b[0m\u001b[0mdetach\u001b[0m\u001b[1;33m(\u001b[0m\u001b[1;33m)\u001b[0m\u001b[1;33m.\u001b[0m\u001b[0mnumpy\u001b[0m\u001b[1;33m(\u001b[0m\u001b[1;33m)\u001b[0m\u001b[1;33m[\u001b[0m\u001b[1;33m:\u001b[0m\u001b[1;33m:\u001b[0m\u001b[0mnum_directions\u001b[0m\u001b[1;33m+\u001b[0m\u001b[1;36m1\u001b[0m\u001b[1;33m]\u001b[0m\u001b[1;33m,\u001b[0m \u001b[0mcolor\u001b[0m\u001b[1;33m=\u001b[0m\u001b[1;34m'b'\u001b[0m\u001b[1;33m)\u001b[0m\u001b[1;33m\u001b[0m\u001b[1;33m\u001b[0m\u001b[0m\n\u001b[0;32m      7\u001b[0m \u001b[0mplt\u001b[0m\u001b[1;33m.\u001b[0m\u001b[0mtitle\u001b[0m\u001b[1;33m(\u001b[0m\u001b[1;34m\"f(x,y) variational fit; actual curve is black, variational is blue\"\u001b[0m\u001b[1;33m)\u001b[0m\u001b[1;33m\u001b[0m\u001b[1;33m\u001b[0m\u001b[0m\n",
      "\u001b[1;31mNameError\u001b[0m: name 'train_x' is not defined"
     ]
    },
    {
     "data": {
      "image/png": "[encoded data removed]",
      "text/plain": [
       "<Figure size 864x432 with 1 Axes>"
      ]
     },
     "metadata": {
      "needs_background": "light"
     },
     "output_type": "display_data"
    }
   ],
   "source": [
    "from mpl_toolkits.mplot3d import axes3d\n",
    "import matplotlib.pyplot as plt\n",
    "fig = plt.figure(figsize=(12,6))\n",
    "ax = fig.add_subplot(111, projection='3d')\n",
    "ax.scatter(train_x[:,0],train_x[:,1],train_y[:,0], color='k')\n",
    "ax.scatter(train_x[:,0],train_x[:,1],preds.detach().numpy()[::num_directions+1], color='b')\n",
    "plt.title(\"f(x,y) variational fit; actual curve is black, variational is blue\")\n",
    "plt.show()"
   ]
  },
  {
   "cell_type": "code",
   "execution_count": null,
   "metadata": {},
   "outputs": [],
   "source": []
  },
  {
   "cell_type": "code",
   "execution_count": null,
   "metadata": {},
   "outputs": [],
   "source": [
    "x = torch.tensor([-1, -2, -3]).abs()"
   ]
  },
  {
   "cell_type": "code",
   "execution_count": null,
   "metadata": {},
   "outputs": [],
   "source": [
    "x"
   ]
  }
 ],
 "metadata": {
  "kernelspec": {
   "display_name": "Python 3",
   "language": "python",
   "name": "python3"
  },
  "language_info": {
   "codemirror_mode": {
    "name": "ipython",
    "version": 3
   },
   "file_extension": ".py",
   "mimetype": "text/x-python",
   "name": "python",
   "nbconvert_exporter": "python",
   "pygments_lexer": "ipython3",
   "version": "3.7.8"
  }
 },
 "nbformat": 4,
 "nbformat_minor": 4
}
