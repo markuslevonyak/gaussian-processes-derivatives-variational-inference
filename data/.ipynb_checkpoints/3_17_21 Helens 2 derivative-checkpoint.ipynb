{
 "cells": [
  {
   "cell_type": "markdown",
   "metadata": {},
   "source": [
    "# Mount St. Helens Countour Dataset"
   ]
  },
  {
   "cell_type": "code",
   "execution_count": 50,
   "metadata": {},
   "outputs": [],
   "source": [
    "import math\n",
    "import numpy as np\n",
    "import torch\n",
    "import gpytorch\n",
    "import matplotlib\n",
    "import tqdm\n",
    "import random\n",
    "from matplotlib import pyplot as plt\n",
    "from torch.utils.data import TensorDataset, DataLoader\n",
    "import sys\n",
    "import sys\n",
    "import scipy.io\n",
    "import torch\n",
    "import numpy as np \n",
    "sys.path.append(\"../directionalvi\")\n",
    "#sys.path.append(\"../../data\")\n",
    "sys.path.append(\"../directionalvi/utils\")\n",
    "from directional_vi import train_gp, eval_gp\n",
    "from metrics import MSE\n",
    "from metrics import MAE\n"
   ]
  },
  {
   "cell_type": "code",
   "execution_count": 51,
   "metadata": {},
   "outputs": [],
   "source": [
    "#load data\n",
    "mat = scipy.io.loadmat('helens')\n",
    "x = torch.tensor(np.float64(mat['mth_points'])).float()\n",
    "#assume xs are positive\n",
    "SCALE_0_FACTOR = max(x[:, 0])\n",
    "SCALE_1_FACTOR = max(x[:, 1])\n",
    "x[:, 0] = x[:, 0]/SCALE_0_FACTOR\n",
    "x[:, 1] = x[:, 1]/SCALE_1_FACTOR\n",
    "y = torch.tensor(np.float64(mat['mth_verts'])).float()\n",
    "SCALE_Y_FACTOR = max(y)\n",
    "y = y/SCALE_Y_FACTOR\n",
    "#y = y - torch.mean(y)\n",
    "dy = torch.tensor(np.float64(mat['mth_grads'])).float()\n",
    "dy = dy / SCALE_Y_FACTOR #modify derivatives due to y-scaling\n",
    "dy[:, 0] = dy[:, 0]*SCALE_0_FACTOR #modify derivatives due to x-scaling\n",
    "dy[:, 1] = dy[:, 1]*SCALE_1_FACTOR\n",
    "data = torch.cat((y, dy), dim = 1).float()\n",
    "full_data = torch.cat((x, data), dim=1).float() #location concatenated with y and dy values\n"
   ]
  },
  {
   "cell_type": "code",
   "execution_count": 52,
   "metadata": {},
   "outputs": [
    {
     "data": {
      "text/plain": [
       "torch.Size([14040, 2])"
      ]
     },
     "execution_count": 52,
     "metadata": {},
     "output_type": "execute_result"
    }
   ],
   "source": [
    "x.shape"
   ]
  },
  {
   "cell_type": "code",
   "execution_count": 53,
   "metadata": {},
   "outputs": [
    {
     "name": "stdout",
     "output_type": "stream",
     "text": [
      "tensor([0.3033])\n"
     ]
    }
   ],
   "source": [
    "print(min(y))"
   ]
  },
  {
   "cell_type": "markdown",
   "metadata": {},
   "source": [
    "# Filter and Round Dataset (If Applicable)"
   ]
  },
  {
   "cell_type": "code",
   "execution_count": 54,
   "metadata": {},
   "outputs": [
    {
     "name": "stdout",
     "output_type": "stream",
     "text": [
      "100\n"
     ]
    }
   ],
   "source": [
    "temp_full_data = np.array(full_data)\n",
    "def fun(x, val = 0.1):\n",
    "    if x[0]>val or x[1]>val:       \n",
    "        return False \n",
    "    else:\n",
    "        return True\n",
    "filtered = filter(fun, temp_full_data)\n",
    "#for item in filtered:\n",
    "#    print(item)\n",
    "arr = [item for item in filtered]\n",
    "len_arr = len(arr)\n",
    "len_arr = len_arr - len_arr%100\n",
    "arr = arr[:len_arr]\n",
    "#full_data_truncated = torch.tensor(arr)\n",
    "print(len(arr))"
   ]
  },
  {
   "cell_type": "code",
   "execution_count": 55,
   "metadata": {},
   "outputs": [
    {
     "data": {
      "text/plain": [
       "<matplotlib.collections.PathCollection at 0x2a243ddae88>"
      ]
     },
     "execution_count": 55,
     "metadata": {},
     "output_type": "execute_result"
    },
    {
     "data": {
      "image/png": "[encoded data removed]",
      "text/plain": [
       "<Figure size 432x288 with 1 Axes>"
      ]
     },
     "metadata": {
      "needs_background": "light"
     },
     "output_type": "display_data"
    }
   ],
   "source": [
    "xs1 = [item[0] for item in arr]\n",
    "xs2 = [item[1] for item in arr]\n",
    "plt.scatter(xs1, xs2)"
   ]
  },
  {
   "cell_type": "code",
   "execution_count": 56,
   "metadata": {},
   "outputs": [
    {
     "name": "stdout",
     "output_type": "stream",
     "text": [
      "tensor(0.3822)\n",
      "tensor(0.3616)\n"
     ]
    }
   ],
   "source": [
    "#recover x and data from filtered concatenated values\n",
    "x = torch.tensor([item[0:2] for item in arr])\n",
    "data = torch.tensor([item[2:] for item in arr])\n",
    "#data[:, 0] = data[:, 0] - torch.mean(data[:, 0]) #normalize\n",
    "print(max(data[:, 0]))\n",
    "print(min(data[:, 0]))\n",
    "\n",
    "# generate training data\n",
    "dataset = TensorDataset(x, data)"
   ]
  },
  {
   "cell_type": "code",
   "execution_count": 57,
   "metadata": {},
   "outputs": [
    {
     "name": "stdout",
     "output_type": "stream",
     "text": [
      "n is:  100\n",
      "n_test is:  20\n",
      "num_inducing is: 50\n",
      "num_directions is:  2\n"
     ]
    }
   ],
   "source": [
    "# data parameters\n",
    "n  = data.shape[0] \n",
    "dim = 2\n",
    "n_test = n//5\n",
    "\n",
    "# training params\n",
    "num_inducing = 50\n",
    "num_directions = dim\n",
    "minibatch_size = n_test #how does minibatch size impact convergence rate\n",
    "num_epochs =  200\n",
    "\n",
    "#print\n",
    "print(\"n is: \", n)\n",
    "print(\"n_test is: \", n_test)\n",
    "print(\"num_inducing is:\", num_inducing)\n",
    "print(\"num_directions is: \", num_directions)"
   ]
  },
  {
   "cell_type": "markdown",
   "metadata": {},
   "source": [
    "# Training"
   ]
  },
  {
   "cell_type": "code",
   "execution_count": 58,
   "metadata": {},
   "outputs": [],
   "source": [
    "train_dataset, test_dataset = torch.utils.data.random_split(dataset, [n - n_test, n_test], generator=torch.Generator().manual_seed(42))"
   ]
  },
  {
   "cell_type": "code",
   "execution_count": 59,
   "metadata": {},
   "outputs": [],
   "source": [
    "train_loader  = DataLoader(train_dataset, batch_size=minibatch_size, shuffle=True)\n",
    "dim = len(train_dataset[0][0])\n",
    "n_samples = len(train_dataset)"
   ]
  },
  {
   "cell_type": "code",
   "execution_count": null,
   "metadata": {},
   "outputs": [
    {
     "name": "stdout",
     "output_type": "stream",
     "text": [
      "Epoch: 0; Step: 0, loss: 1.629319190979004\n",
      "Epoch: 1; Step: 0, loss: 1.472276210784912\n",
      "Epoch: 2; Step: 0, loss: 1.32328462600708\n",
      "Epoch: 3; Step: 0, loss: 1.1965081691741943\n",
      "Epoch: 4; Step: 0, loss: 1.087859034538269\n",
      "Epoch: 5; Step: 0, loss: 0.9881214499473572\n"
     ]
    }
   ],
   "source": [
    "model,likelihood = train_gp(train_dataset,\n",
    "                      num_inducing=num_inducing,\n",
    "                      num_directions=num_directions,\n",
    "                      minibatch_size = minibatch_size,\n",
    "                      minibatch_dim = num_directions,\n",
    "                      num_epochs =num_epochs\n",
    "                      )\n",
    "torch.save(model.state_dict(), \"helens_2_derivatives.model\")"
   ]
  },
  {
   "cell_type": "code",
   "execution_count": null,
   "metadata": {},
   "outputs": [],
   "source": [
    "means, variances = eval_gp( test_dataset,model,likelihood,\n",
    "                            num_directions=num_directions,\n",
    "                            minibatch_size=n_test,\n",
    "                            minibatch_dim=num_directions)"
   ]
  },
  {
   "cell_type": "markdown",
   "metadata": {},
   "source": [
    "# Predict"
   ]
  },
  {
   "cell_type": "code",
   "execution_count": null,
   "metadata": {},
   "outputs": [],
   "source": [
    "x.size(-2)"
   ]
  },
  {
   "cell_type": "code",
   "execution_count": null,
   "metadata": {},
   "outputs": [],
   "source": [
    "test_loader  = DataLoader(test_dataset, batch_size=n_test, shuffle=True)\n",
    "# predict in batches\n",
    "kwargs = {}\n",
    "derivative_directions = torch.eye(dim)[:num_directions]\n",
    "derivative_directions = derivative_directions.repeat(n_test,1)\n",
    "print(derivative_directions.shape)"
   ]
  },
  {
   "cell_type": "code",
   "execution_count": null,
   "metadata": {
    "scrolled": true
   },
   "outputs": [],
   "source": [
    "\n",
    "kwargs['derivative_directions'] = derivative_directions\n",
    "#means   = model(test_x, **kwargs).mean.cpu()\n",
    "means = torch.tensor([0.])\n",
    "test_y = torch.zeros(1,dim+1)\n",
    "test_x = torch.zeros(1,dim)\n",
    "with torch.no_grad():\n",
    "    for x_batch, y_batch in test_loader:\n",
    "        preds = model(x_batch,**kwargs)\n",
    "        means = torch.cat([means, preds.mean.cpu()])\n",
    "        test_y = torch.cat([test_y, y_batch])\n",
    "        test_x = torch.cat([test_x, x_batch])\n",
    "\n",
    "means = means[1:]\n",
    "test_y = test_y[1:]\n",
    "test_x = test_x[1:]\n"
   ]
  },
  {
   "cell_type": "code",
   "execution_count": null,
   "metadata": {},
   "outputs": [],
   "source": []
  },
  {
   "cell_type": "code",
   "execution_count": null,
   "metadata": {},
   "outputs": [],
   "source": [
    "# compute MSE\n",
    "test_mse = MSE(test_y[:,0],means[::num_directions+1])\n",
    "print(f\"\\nTesting MSE: {test_mse}\")\n",
    "print(f\"\\nTesting RMSE: {math.sqrt(test_mse)}\")\n",
    "test_mae = MAE(test_y[:,0],means[::num_directions+1])\n",
    "print(f\"\\nTesting MAE: {test_mae}\")"
   ]
  },
  {
   "cell_type": "code",
   "execution_count": null,
   "metadata": {},
   "outputs": [],
   "source": [
    "# testing RMSE is 364 for 1000 epochs...\n",
    "# 300 inducing, 900 datapoints, 10% test, 1500 epochs: MAE = 101, MSE = 126\n",
    "#I suspect that 1500 epochs is not enough. Try 4000 if I have time...\n",
    "len(means[::num_directions+1])"
   ]
  },
  {
   "cell_type": "code",
   "execution_count": null,
   "metadata": {},
   "outputs": [],
   "source": [
    "test_x"
   ]
  },
  {
   "cell_type": "code",
   "execution_count": null,
   "metadata": {},
   "outputs": [],
   "source": [
    "import numpy as np\n",
    "import matplotlib.pyplot as plt\n",
    "#xlist = np.linspace(-3.0, 3.0, 100)\n",
    "#ylist = np.linspace(-3.0, 3.0, 100)\n",
    "#X, Y = np.meshgrid(xlist, ylist)\n",
    "#Z = np.sqrt(X**2 + Y**2)\n",
    "X = test_x[:, 0]\n",
    "Y = test_x[:, 1]\n",
    "Z = means[::num_directions+1]\n",
    "fig,ax=plt.subplots(1,1)\n",
    "cp = ax.contourf(X, Y, Z)\n",
    "fig.colorbar(cp) # Add a colorbar to a plot\n",
    "ax.set_title('Filled Contours Plot')\n",
    "#ax.set_xlabel('x (cm)')\n",
    "ax.set_ylabel('y (cm)')\n",
    "plt.show()"
   ]
  },
  {
   "cell_type": "code",
   "execution_count": null,
   "metadata": {},
   "outputs": [],
   "source": [
    "matplotlib.pyplot.contour(test_x[:, 0], test_x[:, 1], means[::num_directions+1])"
   ]
  },
  {
   "cell_type": "markdown",
   "metadata": {},
   "source": [
    "# Plot Actual vs Prediction"
   ]
  },
  {
   "cell_type": "code",
   "execution_count": null,
   "metadata": {},
   "outputs": [],
   "source": [
    "test_dataset"
   ]
  },
  {
   "cell_type": "code",
   "execution_count": null,
   "metadata": {},
   "outputs": [],
   "source": [
    "#from mpl_toolkits.mplot3d import axes3d\n",
    "#import matplotlib.pyplot as plt\n",
    "#fig = plt.figure(figsize=(12,6))\n",
    "#ax = fig.add_subplot(111, projection='3d')\n",
    "#ax.scatter(train_x[:,0],train_x[:,1],train_y[:,0], color='k')\n",
    "#ax.scatter(train_x[:,0],train_x[:,1],preds.detach().numpy()[::num_directions+1], color='b')\n",
    "#plt.title(\"f(x,y) variational fit; actual curve is black, variational is blue\")\n",
    "#plt.show()"
   ]
  },
  {
   "cell_type": "code",
   "execution_count": null,
   "metadata": {},
   "outputs": [],
   "source": []
  },
  {
   "cell_type": "code",
   "execution_count": null,
   "metadata": {},
   "outputs": [],
   "source": [
    "x = torch.tensor([-1, -2, -3]).abs()"
   ]
  },
  {
   "cell_type": "code",
   "execution_count": null,
   "metadata": {},
   "outputs": [],
   "source": [
    "x"
   ]
  },
  {
   "cell_type": "code",
   "execution_count": null,
   "metadata": {},
   "outputs": [],
   "source": []
  },
  {
   "cell_type": "code",
   "execution_count": null,
   "metadata": {},
   "outputs": [],
   "source": []
  }
 ],
 "metadata": {
  "kernelspec": {
   "display_name": "Python 3",
   "language": "python",
   "name": "python3"
  },
  "language_info": {
   "codemirror_mode": {
    "name": "ipython",
    "version": 3
   },
   "file_extension": ".py",
   "mimetype": "text/x-python",
   "name": "python",
   "nbconvert_exporter": "python",
   "pygments_lexer": "ipython3",
   "version": "3.7.8"
  }
 },
 "nbformat": 4,
 "nbformat_minor": 4
}
